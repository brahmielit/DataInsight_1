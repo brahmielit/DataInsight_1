{
 "cells": [
  {
   "cell_type": "markdown",
   "id": "c14b354d",
   "metadata": {},
   "source": [
    "#                                   Assignment - Statistical Concepts for Data Science"
   ]
  },
  {
   "cell_type": "markdown",
   "id": "1c0969f2",
   "metadata": {},
   "source": [
    "in this tutorial we will demonstrate ten keys concept in statistics for data science. we will get through many theoric things along with practical examples. we will work on popular dataset from kaggle \"Credit Card Fraud Detection\" wich is Anonymized credit card transactions labeled as fraudulent or genuine. \n",
    "\n",
    "\n",
    "the first statistical concept that we will explain is\n",
    "\n",
    "* population and sampling\n",
    "\n",
    "A population is the entire group that you want to draw conclusions about.\n",
    "\n",
    "A sample is the specific group that you will collect data from. The size of the sample is always less than the total size of the population.\n",
    "\n",
    "for example in our example, the population is the entire dataframe, we can do the sampling using the Dataframe.sample()"
   ]
  },
  {
   "cell_type": "code",
   "execution_count": 1,
   "id": "db611773",
   "metadata": {},
   "outputs": [
    {
     "data": {
      "text/html": [
       "<div>\n",
       "<style scoped>\n",
       "    .dataframe tbody tr th:only-of-type {\n",
       "        vertical-align: middle;\n",
       "    }\n",
       "\n",
       "    .dataframe tbody tr th {\n",
       "        vertical-align: top;\n",
       "    }\n",
       "\n",
       "    .dataframe thead th {\n",
       "        text-align: right;\n",
       "    }\n",
       "</style>\n",
       "<table border=\"1\" class=\"dataframe\">\n",
       "  <thead>\n",
       "    <tr style=\"text-align: right;\">\n",
       "      <th></th>\n",
       "      <th>Time</th>\n",
       "      <th>V1</th>\n",
       "      <th>V2</th>\n",
       "      <th>V3</th>\n",
       "      <th>V4</th>\n",
       "      <th>V5</th>\n",
       "      <th>V6</th>\n",
       "      <th>V7</th>\n",
       "      <th>V8</th>\n",
       "      <th>V9</th>\n",
       "      <th>...</th>\n",
       "      <th>V21</th>\n",
       "      <th>V22</th>\n",
       "      <th>V23</th>\n",
       "      <th>V24</th>\n",
       "      <th>V25</th>\n",
       "      <th>V26</th>\n",
       "      <th>V27</th>\n",
       "      <th>V28</th>\n",
       "      <th>Amount</th>\n",
       "      <th>Class</th>\n",
       "    </tr>\n",
       "  </thead>\n",
       "  <tbody>\n",
       "    <tr>\n",
       "      <th>78312</th>\n",
       "      <td>57472.0</td>\n",
       "      <td>-2.106463</td>\n",
       "      <td>1.700959</td>\n",
       "      <td>0.075275</td>\n",
       "      <td>0.385853</td>\n",
       "      <td>-0.449070</td>\n",
       "      <td>-0.161651</td>\n",
       "      <td>-0.355098</td>\n",
       "      <td>0.781424</td>\n",
       "      <td>0.486057</td>\n",
       "      <td>...</td>\n",
       "      <td>-0.065092</td>\n",
       "      <td>0.187982</td>\n",
       "      <td>-0.280584</td>\n",
       "      <td>-0.363647</td>\n",
       "      <td>-0.108572</td>\n",
       "      <td>0.417338</td>\n",
       "      <td>-0.487010</td>\n",
       "      <td>-0.309385</td>\n",
       "      <td>1.89</td>\n",
       "      <td>0</td>\n",
       "    </tr>\n",
       "    <tr>\n",
       "      <th>3638</th>\n",
       "      <td>3110.0</td>\n",
       "      <td>-0.450132</td>\n",
       "      <td>0.468356</td>\n",
       "      <td>1.323289</td>\n",
       "      <td>-1.423548</td>\n",
       "      <td>0.032947</td>\n",
       "      <td>-0.169764</td>\n",
       "      <td>0.218384</td>\n",
       "      <td>0.349357</td>\n",
       "      <td>0.088514</td>\n",
       "      <td>...</td>\n",
       "      <td>-0.064550</td>\n",
       "      <td>-0.214801</td>\n",
       "      <td>-0.030035</td>\n",
       "      <td>-0.307491</td>\n",
       "      <td>-0.362855</td>\n",
       "      <td>0.760350</td>\n",
       "      <td>0.178478</td>\n",
       "      <td>0.047415</td>\n",
       "      <td>1.54</td>\n",
       "      <td>0</td>\n",
       "    </tr>\n",
       "    <tr>\n",
       "      <th>61724</th>\n",
       "      <td>49956.0</td>\n",
       "      <td>-1.206222</td>\n",
       "      <td>1.131439</td>\n",
       "      <td>0.537895</td>\n",
       "      <td>-1.735093</td>\n",
       "      <td>0.386065</td>\n",
       "      <td>0.025924</td>\n",
       "      <td>0.446941</td>\n",
       "      <td>0.169996</td>\n",
       "      <td>0.437855</td>\n",
       "      <td>...</td>\n",
       "      <td>-0.067768</td>\n",
       "      <td>-0.185388</td>\n",
       "      <td>-0.103207</td>\n",
       "      <td>-0.822999</td>\n",
       "      <td>-0.150759</td>\n",
       "      <td>0.804748</td>\n",
       "      <td>-0.012413</td>\n",
       "      <td>0.201196</td>\n",
       "      <td>4.99</td>\n",
       "      <td>0</td>\n",
       "    </tr>\n",
       "    <tr>\n",
       "      <th>249740</th>\n",
       "      <td>154555.0</td>\n",
       "      <td>0.161520</td>\n",
       "      <td>0.969964</td>\n",
       "      <td>0.764630</td>\n",
       "      <td>1.044154</td>\n",
       "      <td>0.267730</td>\n",
       "      <td>-0.502492</td>\n",
       "      <td>0.717946</td>\n",
       "      <td>-0.251775</td>\n",
       "      <td>-0.790163</td>\n",
       "      <td>...</td>\n",
       "      <td>-0.171107</td>\n",
       "      <td>-0.269080</td>\n",
       "      <td>0.003146</td>\n",
       "      <td>0.044083</td>\n",
       "      <td>-0.776012</td>\n",
       "      <td>0.606571</td>\n",
       "      <td>0.167999</td>\n",
       "      <td>0.174741</td>\n",
       "      <td>2.69</td>\n",
       "      <td>0</td>\n",
       "    </tr>\n",
       "    <tr>\n",
       "      <th>168154</th>\n",
       "      <td>119089.0</td>\n",
       "      <td>1.777466</td>\n",
       "      <td>0.264313</td>\n",
       "      <td>-0.577006</td>\n",
       "      <td>4.007271</td>\n",
       "      <td>0.168573</td>\n",
       "      <td>-0.114551</td>\n",
       "      <td>0.237089</td>\n",
       "      <td>-0.137996</td>\n",
       "      <td>-0.662046</td>\n",
       "      <td>...</td>\n",
       "      <td>0.119471</td>\n",
       "      <td>0.380714</td>\n",
       "      <td>0.021207</td>\n",
       "      <td>0.049615</td>\n",
       "      <td>0.110727</td>\n",
       "      <td>0.086890</td>\n",
       "      <td>-0.038518</td>\n",
       "      <td>-0.038294</td>\n",
       "      <td>75.10</td>\n",
       "      <td>0</td>\n",
       "    </tr>\n",
       "    <tr>\n",
       "      <th>24773</th>\n",
       "      <td>33378.0</td>\n",
       "      <td>1.368500</td>\n",
       "      <td>-0.149187</td>\n",
       "      <td>-0.287454</td>\n",
       "      <td>-0.378003</td>\n",
       "      <td>-0.755217</td>\n",
       "      <td>-1.810610</td>\n",
       "      <td>0.009954</td>\n",
       "      <td>-0.446662</td>\n",
       "      <td>-1.196208</td>\n",
       "      <td>...</td>\n",
       "      <td>0.232550</td>\n",
       "      <td>0.597167</td>\n",
       "      <td>-0.154462</td>\n",
       "      <td>0.892122</td>\n",
       "      <td>0.742220</td>\n",
       "      <td>-0.074039</td>\n",
       "      <td>-0.015075</td>\n",
       "      <td>0.031659</td>\n",
       "      <td>29.95</td>\n",
       "      <td>0</td>\n",
       "    </tr>\n",
       "    <tr>\n",
       "      <th>224403</th>\n",
       "      <td>143777.0</td>\n",
       "      <td>-1.855276</td>\n",
       "      <td>0.362844</td>\n",
       "      <td>-2.202620</td>\n",
       "      <td>-1.770804</td>\n",
       "      <td>-4.240917</td>\n",
       "      <td>2.319980</td>\n",
       "      <td>5.191627</td>\n",
       "      <td>-0.456420</td>\n",
       "      <td>-1.847092</td>\n",
       "      <td>...</td>\n",
       "      <td>-0.202936</td>\n",
       "      <td>0.041503</td>\n",
       "      <td>-0.143845</td>\n",
       "      <td>0.542386</td>\n",
       "      <td>1.070170</td>\n",
       "      <td>-0.095134</td>\n",
       "      <td>0.300153</td>\n",
       "      <td>-0.324964</td>\n",
       "      <td>1096.04</td>\n",
       "      <td>0</td>\n",
       "    </tr>\n",
       "    <tr>\n",
       "      <th>178355</th>\n",
       "      <td>123594.0</td>\n",
       "      <td>-0.274747</td>\n",
       "      <td>0.081976</td>\n",
       "      <td>-0.083038</td>\n",
       "      <td>0.363718</td>\n",
       "      <td>-0.860229</td>\n",
       "      <td>-0.154553</td>\n",
       "      <td>0.413451</td>\n",
       "      <td>0.455190</td>\n",
       "      <td>0.766121</td>\n",
       "      <td>...</td>\n",
       "      <td>0.424278</td>\n",
       "      <td>1.185421</td>\n",
       "      <td>0.181500</td>\n",
       "      <td>-0.047352</td>\n",
       "      <td>-0.333067</td>\n",
       "      <td>0.630001</td>\n",
       "      <td>-0.083574</td>\n",
       "      <td>0.010024</td>\n",
       "      <td>151.49</td>\n",
       "      <td>0</td>\n",
       "    </tr>\n",
       "    <tr>\n",
       "      <th>228002</th>\n",
       "      <td>145317.0</td>\n",
       "      <td>1.740672</td>\n",
       "      <td>-0.964960</td>\n",
       "      <td>0.071663</td>\n",
       "      <td>0.458997</td>\n",
       "      <td>-1.330077</td>\n",
       "      <td>-0.235941</td>\n",
       "      <td>-0.980452</td>\n",
       "      <td>0.245801</td>\n",
       "      <td>1.360664</td>\n",
       "      <td>...</td>\n",
       "      <td>0.139371</td>\n",
       "      <td>0.226952</td>\n",
       "      <td>0.252678</td>\n",
       "      <td>0.054527</td>\n",
       "      <td>-0.711278</td>\n",
       "      <td>0.342838</td>\n",
       "      <td>-0.035825</td>\n",
       "      <td>-0.032926</td>\n",
       "      <td>100.81</td>\n",
       "      <td>0</td>\n",
       "    </tr>\n",
       "    <tr>\n",
       "      <th>248372</th>\n",
       "      <td>153916.0</td>\n",
       "      <td>-2.395917</td>\n",
       "      <td>-1.837136</td>\n",
       "      <td>-0.653278</td>\n",
       "      <td>-0.793685</td>\n",
       "      <td>1.938019</td>\n",
       "      <td>-1.095919</td>\n",
       "      <td>0.081556</td>\n",
       "      <td>0.621782</td>\n",
       "      <td>0.130331</td>\n",
       "      <td>...</td>\n",
       "      <td>0.404068</td>\n",
       "      <td>0.058053</td>\n",
       "      <td>0.177073</td>\n",
       "      <td>0.262671</td>\n",
       "      <td>-0.265380</td>\n",
       "      <td>-0.658737</td>\n",
       "      <td>0.024053</td>\n",
       "      <td>-0.206407</td>\n",
       "      <td>142.97</td>\n",
       "      <td>0</td>\n",
       "    </tr>\n",
       "  </tbody>\n",
       "</table>\n",
       "<p>10 rows × 31 columns</p>\n",
       "</div>"
      ],
      "text/plain": [
       "            Time        V1        V2        V3        V4        V5        V6  \\\n",
       "78312    57472.0 -2.106463  1.700959  0.075275  0.385853 -0.449070 -0.161651   \n",
       "3638      3110.0 -0.450132  0.468356  1.323289 -1.423548  0.032947 -0.169764   \n",
       "61724    49956.0 -1.206222  1.131439  0.537895 -1.735093  0.386065  0.025924   \n",
       "249740  154555.0  0.161520  0.969964  0.764630  1.044154  0.267730 -0.502492   \n",
       "168154  119089.0  1.777466  0.264313 -0.577006  4.007271  0.168573 -0.114551   \n",
       "24773    33378.0  1.368500 -0.149187 -0.287454 -0.378003 -0.755217 -1.810610   \n",
       "224403  143777.0 -1.855276  0.362844 -2.202620 -1.770804 -4.240917  2.319980   \n",
       "178355  123594.0 -0.274747  0.081976 -0.083038  0.363718 -0.860229 -0.154553   \n",
       "228002  145317.0  1.740672 -0.964960  0.071663  0.458997 -1.330077 -0.235941   \n",
       "248372  153916.0 -2.395917 -1.837136 -0.653278 -0.793685  1.938019 -1.095919   \n",
       "\n",
       "              V7        V8        V9  ...       V21       V22       V23  \\\n",
       "78312  -0.355098  0.781424  0.486057  ... -0.065092  0.187982 -0.280584   \n",
       "3638    0.218384  0.349357  0.088514  ... -0.064550 -0.214801 -0.030035   \n",
       "61724   0.446941  0.169996  0.437855  ... -0.067768 -0.185388 -0.103207   \n",
       "249740  0.717946 -0.251775 -0.790163  ... -0.171107 -0.269080  0.003146   \n",
       "168154  0.237089 -0.137996 -0.662046  ...  0.119471  0.380714  0.021207   \n",
       "24773   0.009954 -0.446662 -1.196208  ...  0.232550  0.597167 -0.154462   \n",
       "224403  5.191627 -0.456420 -1.847092  ... -0.202936  0.041503 -0.143845   \n",
       "178355  0.413451  0.455190  0.766121  ...  0.424278  1.185421  0.181500   \n",
       "228002 -0.980452  0.245801  1.360664  ...  0.139371  0.226952  0.252678   \n",
       "248372  0.081556  0.621782  0.130331  ...  0.404068  0.058053  0.177073   \n",
       "\n",
       "             V24       V25       V26       V27       V28   Amount  Class  \n",
       "78312  -0.363647 -0.108572  0.417338 -0.487010 -0.309385     1.89      0  \n",
       "3638   -0.307491 -0.362855  0.760350  0.178478  0.047415     1.54      0  \n",
       "61724  -0.822999 -0.150759  0.804748 -0.012413  0.201196     4.99      0  \n",
       "249740  0.044083 -0.776012  0.606571  0.167999  0.174741     2.69      0  \n",
       "168154  0.049615  0.110727  0.086890 -0.038518 -0.038294    75.10      0  \n",
       "24773   0.892122  0.742220 -0.074039 -0.015075  0.031659    29.95      0  \n",
       "224403  0.542386  1.070170 -0.095134  0.300153 -0.324964  1096.04      0  \n",
       "178355 -0.047352 -0.333067  0.630001 -0.083574  0.010024   151.49      0  \n",
       "228002  0.054527 -0.711278  0.342838 -0.035825 -0.032926   100.81      0  \n",
       "248372  0.262671 -0.265380 -0.658737  0.024053 -0.206407   142.97      0  \n",
       "\n",
       "[10 rows x 31 columns]"
      ]
     },
     "execution_count": 1,
     "metadata": {},
     "output_type": "execute_result"
    }
   ],
   "source": [
    "import pandas as pd\n",
    "import random\n",
    "data = pd.read_csv(\"C:/Users/HP/Desktop/creditcard.csv\")\n",
    "sample = data.sample(10)\n",
    "sample"
   ]
  },
  {
   "cell_type": "markdown",
   "id": "f02b359d",
   "metadata": {},
   "source": [
    "the next thing that we will discuss is the Measures of central tendency.\n",
    "There are three main measures of central tendency: the mode, the median and the mean. Each of these measures describes a different indication of the typical or central value in the distribution.\n",
    "The mean (or average) is the most popular and well known measure of central tendency. It can be used with both discrete and continuous data, although its use is most often with continuous data,The mean is equal to the sum of all the values in the data set divided by the number of values in the data set.\n",
    "The median is the middle score for a set of data that has been arranged in order of magnitude. The median is less affected by outliers and skewed data.\n",
    "The mode is the most frequent score in our data set. On a histogram it represents the highest bar in a bar chart or histogram. You can, therefore, sometimes consider the mode as being the most popular option."
   ]
  },
  {
   "cell_type": "code",
   "execution_count": 2,
   "id": "a97ef33a",
   "metadata": {
    "scrolled": true
   },
   "outputs": [
    {
     "name": "stdout",
     "output_type": "stream",
     "text": [
      "V1 mean is  3.918648695036257e-15 median is  0.0181087991615309 mode is  0    1.245674\n",
      "1    2.055797\n",
      "dtype: float64\n"
     ]
    }
   ],
   "source": [
    "mean_v1=data['V1'].mean()\n",
    "median_v1=data['V1'].median()\n",
    "mode_v1=data['V1'].mode()\n",
    "print('V1 mean is ', mean_v1 ,\n",
    "      'median is ',median_v1,'mode is ',mode_v1 )"
   ]
  },
  {
   "cell_type": "markdown",
   "id": "36ecf5ae",
   "metadata": {},
   "source": [
    "* The normal distributions occurs often in nature. For example, it describes the commonly occurring distribution of samples influenced by a large number of tiny, random disturbances, each with its own unique distribution"
   ]
  },
  {
   "cell_type": "markdown",
   "id": "e2aa71e1",
   "metadata": {},
   "source": [
    "\n",
    "normal distribution is characterized by mean and standard deviation"
   ]
  },
  {
   "cell_type": "code",
   "execution_count": 3,
   "id": "82e0412f",
   "metadata": {},
   "outputs": [
    {
     "data": {
      "text/plain": [
       "array([ 0.11945378,  0.18652929,  1.41664043, ..., -0.06016227,\n",
       "        0.01955902,  1.53164046])"
      ]
     },
     "execution_count": 3,
     "metadata": {},
     "output_type": "execute_result"
    }
   ],
   "source": [
    "import numpy as np\n",
    "norm_sampling=np.random.normal(0,1,20000000)\n",
    "norm_sampling"
   ]
  },
  {
   "cell_type": "code",
   "execution_count": 4,
   "id": "d67685ae",
   "metadata": {
    "scrolled": true
   },
   "outputs": [
    {
     "data": {
      "image/png": "[encoded data removed]",
      "text/plain": [
       "<Figure size 432x288 with 1 Axes>"
      ]
     },
     "metadata": {
      "needs_background": "light"
     },
     "output_type": "display_data"
    }
   ],
   "source": [
    "import matplotlib.pyplot as plt\n",
    "plt.hist(norm_sampling,bins=80)\n",
    "plt.show()"
   ]
  },
  {
   "cell_type": "markdown",
   "id": "f94ed9c5",
   "metadata": {},
   "source": [
    "# central limit theorem"
   ]
  },
  {
   "cell_type": "markdown",
   "id": "64fe6eda",
   "metadata": {},
   "source": [
    "\n",
    "The central limit theorem (CLT) states that the distribution of sample means approximates a normal distribution as the sample size gets larger, regardless of the population's distribution."
   ]
  },
  {
   "cell_type": "code",
   "execution_count": 5,
   "id": "1eb612f7",
   "metadata": {},
   "outputs": [
    {
     "data": {
      "image/png": "[encoded data removed]",
      "text/plain": [
       "<Figure size 432x288 with 1 Axes>"
      ]
     },
     "metadata": {
      "needs_background": "light"
     },
     "output_type": "display_data"
    }
   ],
   "source": [
    "mean_list=list()\n",
    "for i in range(2000):\n",
    "    mean=np.mean(data['V1'].sample(100))\n",
    "    mean_list.append(mean)\n",
    "\n",
    "    \n",
    "plt.hist(mean_list,bins=20)\n",
    "plt.show()"
   ]
  },
  {
   "cell_type": "markdown",
   "id": "2c5347eb",
   "metadata": {},
   "source": [
    "# Measures of dispersion\n",
    "## INTERQUARTILE RANGE\n",
    "Interquartile range is defined as the difference between the 25th and 75th percentile (also called the first and third quartile). Hence the interquartile range describes the middle 50% of observations. If the interquartile range is large it means that the middle 50% of observations are spaced wide apart. The important advantage of interquartile range is that it can be used as a measure of variability if the extreme values are not being recorded exactly (as in case of open-ended class intervals in the frequency distribution). Other advantageous feature is that it is not affected by extreme values. The main disadvantage in using interquartile range as a measure of dispersion is that it is not amenable to mathematical manipulation.\n",
    "## STANDARD DEVIATION\n",
    "Standard deviation (SD) is the most commonly used measure of dispersion. It is a measure of spread of data about the mean. SD is the square root of sum of squared deviation from the mean divided by the number of observations.\n",
    "## "
   ]
  },
  {
   "cell_type": "code",
   "execution_count": 6,
   "id": "8e1a9393",
   "metadata": {},
   "outputs": [],
   "source": [
    "q3, q1 = np.percentile(data['V1'], [75 ,25])\n",
    "iqr = q3 - q1"
   ]
  },
  {
   "cell_type": "code",
   "execution_count": 9,
   "id": "e1b4f328",
   "metadata": {},
   "outputs": [
    {
     "data": {
      "text/plain": [
       "1.9586923652174122"
      ]
     },
     "execution_count": 9,
     "metadata": {},
     "output_type": "execute_result"
    }
   ],
   "source": [
    "std = np.std(data['V1'])\n",
    "std"
   ]
  }
 ],
 "metadata": {
  "kernelspec": {
   "display_name": "Python 3",
   "language": "python",
   "name": "python3"
  },
  "language_info": {
   "codemirror_mode": {
    "name": "ipython",
    "version": 3
   },
   "file_extension": ".py",
   "mimetype": "text/x-python",
   "name": "python",
   "nbconvert_exporter": "python",
   "pygments_lexer": "ipython3",
   "version": "3.8.8"
  }
 },
 "nbformat": 4,
 "nbformat_minor": 5
}
