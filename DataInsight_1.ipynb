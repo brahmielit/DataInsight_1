{
 "cells": [
  {
   "cell_type": "markdown",
   "metadata": {},
   "source": [
    "# Email splitter for separating the username and domain name."
   ]
  },
  {
   "cell_type": "code",
   "execution_count": 10,
   "metadata": {},
   "outputs": [
    {
     "name": "stdout",
     "output_type": "stream",
     "text": [
      "could you please give me the email adress aminebra@gmail.com\n"
     ]
    }
   ],
   "source": [
    "\n",
    "email = str(input('could you please give me the email adress ' ))\n",
    "def email_username(email):\n",
    "    if '@' not in email:\n",
    "        return print('please enter valid email')\n",
    "    else:\n",
    "        username = email.split('@')[0]\n",
    "        domaine = email.split('@')[1]\n",
    "        return print('your username is {a} and your domaine is {b}'.format(a=username,b=domaine))\n",
    "        \n",
    "    "
   ]
  },
  {
   "cell_type": "code",
   "execution_count": 11,
   "metadata": {},
   "outputs": [
    {
     "name": "stdout",
     "output_type": "stream",
     "text": [
      "your username is aminebra and your domaine is gmail.com\n"
     ]
    }
   ],
   "source": [
    "email_username(email)"
   ]
  },
  {
   "cell_type": "code",
   "execution_count": null,
   "metadata": {},
   "outputs": [],
   "source": []
  }
 ],
 "metadata": {
  "kernelspec": {
   "display_name": "Python 3",
   "language": "python",
   "name": "python3"
  },
  "language_info": {
   "codemirror_mode": {
    "name": "ipython",
    "version": 3
   },
   "file_extension": ".py",
   "mimetype": "text/x-python",
   "name": "python",
   "nbconvert_exporter": "python",
   "pygments_lexer": "ipython3",
   "version": "3.8.3"
  }
 },
 "nbformat": 4,
 "nbformat_minor": 4
}
